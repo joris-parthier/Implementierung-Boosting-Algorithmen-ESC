{
 "cells": [
  {
   "cell_type": "code",
   "execution_count": 19,
   "id": "bbe3a02a-a9d1-4910-870a-fa27d75674d8",
   "metadata": {},
   "outputs": [],
   "source": [
    "import numpy as np\n",
    "import pandas as pd\n",
    "from sklearn.tree import DecisionTreeRegressor"
   ]
  },
  {
   "cell_type": "code",
   "execution_count": 12,
   "id": "54988cf9-7af4-4096-a142-f16b121b7565",
   "metadata": {},
   "outputs": [],
   "source": [
    "#Beispieldatensatz: Census Income Data Set vom UC Irvine Machine Learning Repository\n",
    "df_census = pd.read_csv('https://archive.ics.uci.edu/ml/machine-learning-databases/adult/adult.data', header=None)\n",
    "df_census.columns =['age', 'work class', 'fnlwgt', 'education', 'education-num', 'marital-status',\n",
    "                    'occupation', 'relationship', 'race', 'sex', 'capital-gain', 'capital-loss', 'hours-per-week', 'native-country', 'income']\n",
    "df_census = df_census.drop(['education'], axis=1)\n",
    "df_census = pd.get_dummies(df_census)\n",
    "df_census = df_census.drop('income_ <=50K', axis=1)\n",
    "#Problemstellung: Will die Person mehr oder weniger Geld als 50k verdienen?\n",
    "X = df_census.iloc[:, :-1]\n",
    "y = df_census.iloc[:, -1]"
   ]
  },
  {
   "cell_type": "code",
   "execution_count": 34,
   "id": "ee2ddad6-fd0e-4049-bc96-f455e5a903dd",
   "metadata": {},
   "outputs": [],
   "source": [
    "class CustomGradientBoostingClassifier:\n",
    "    \n",
    "    def __init__(self, n_estimators, learning_rate, max_depth):\n",
    "        self.n_estimators = n_estimators\n",
    "        self.learning_rate = learning_rate\n",
    "        self.max_depth = max_depth\n",
    "        self.trees = []\n",
    "     \n",
    "    def fit(self, X, y): \n",
    "        \n",
    "        F0 = np.log(y.mean()/(1-y.mean())) \n",
    "        self.F0 = np.full(len(y), F0)  \n",
    "        Fm = self.F0.copy()\n",
    "        \n",
    "        for _ in range(self.n_estimators):  \n",
    "            p = np.exp(Fm) / (1 + np.exp(Fm))  \n",
    "            r = y - p  \n",
    "            tree = DecisionTreeRegressor(max_depth=self.max_depth, random_state=0) \n",
    "            tree.fit(X, r)\n",
    "            terminal_idx = tree.apply(X)  #array\n",
    "\n",
    "             \n",
    "            for j in np.unique(terminal_idx): \n",
    "              mask = terminal_idx == j\n",
    "\n",
    "            \n",
    "              neg_grad = r[mask].sum()       \n",
    "              hessian = (p[mask]*(1-p[mask])).sum() \n",
    "              gamma = neg_grad / hessian\n",
    "\n",
    "              \n",
    "              Fm[mask] += self.learning_rate * gamma \n",
    "\n",
    "              \n",
    "              tree.tree_.value[j, 0, 0] = gamma  \n",
    "\n",
    "            self.trees.append(tree)\n",
    "            \n",
    "    def predict_proba(self, X):\n",
    "        \n",
    "        Fm = self.F0     \n",
    "        \n",
    "        for i in range(self.n_estimators):\n",
    "            Fm += self.learning_rate * self.trees[i].predict(X) \n",
    "            \n",
    "        return np.exp(Fm) / (1 + np.exp(Fm))\n",
    "def predict(self, X, threshold=0.5):\n",
    "       proba = self.predict_proba(X)\n",
    "       return (proba >= threshold).astype(int)"
   ]
  },
  {
   "cell_type": "code",
   "execution_count": 39,
   "id": "c61a8e5a-9469-410f-95be-72d7f35aa23b",
   "metadata": {},
   "outputs": [
    {
     "name": "stdout",
     "output_type": "stream",
     "text": [
      "Custom GBM Log-Loss:0.5162\n",
      "Scikit-learn GBM Log-Loss:0.5162\n"
     ]
    },
    {
     "ename": "AttributeError",
     "evalue": "'CustomGradientBoostingClassifier' object has no attribute 'predict'",
     "output_type": "error",
     "traceback": [
      "\u001b[1;31m---------------------------------------------------------------------------\u001b[0m",
      "\u001b[1;31mAttributeError\u001b[0m                            Traceback (most recent call last)",
      "Cell \u001b[1;32mIn[39], line 21\u001b[0m\n\u001b[0;32m     19\u001b[0m gbm_log_loss \u001b[38;5;241m=\u001b[39m log_loss(y, gbm\u001b[38;5;241m.\u001b[39mpredict_proba(X))\n\u001b[0;32m     20\u001b[0m \u001b[38;5;28mprint\u001b[39m(\u001b[38;5;124mf\u001b[39m\u001b[38;5;124m\"\u001b[39m\u001b[38;5;124mScikit-learn GBM Log-Loss:\u001b[39m\u001b[38;5;132;01m{\u001b[39;00mgbm_log_loss\u001b[38;5;132;01m:\u001b[39;00m\u001b[38;5;124m.4f\u001b[39m\u001b[38;5;132;01m}\u001b[39;00m\u001b[38;5;124m\"\u001b[39m)\n\u001b[1;32m---> 21\u001b[0m custom_gbm\u001b[38;5;241m.\u001b[39mpredict(\u001b[38;5;28mself\u001b[39m, X\u001b[38;5;241m=\u001b[39mX, threshold\u001b[38;5;241m=\u001b[39m\u001b[38;5;241m0.5\u001b[39m)\n",
      "\u001b[1;31mAttributeError\u001b[0m: 'CustomGradientBoostingClassifier' object has no attribute 'predict'"
     ]
    }
   ],
   "source": [
    "from sklearn.ensemble import GradientBoostingClassifier\n",
    "from sklearn.metrics import log_loss\n",
    "\n",
    "custom_gbm = CustomGradientBoostingClassifier(\n",
    "    n_estimators=1, \n",
    "    learning_rate=0.1, \n",
    "    max_depth=3\n",
    ")\n",
    "custom_gbm.fit(X, y)\n",
    "custom_log_loss = log_loss(y, custom_gbm.predict_proba(X))\n",
    "print(f\"Custom GBM Log-Loss:{custom_log_loss:.4f}\")\n",
    "\n",
    "gbm = GradientBoostingClassifier(\n",
    "    n_estimators=1, \n",
    "    learning_rate=0.1, \n",
    "    max_depth=3\n",
    ")\n",
    "gbm.fit(X, y)\n",
    "gbm_log_loss = log_loss(y, gbm.predict_proba(X))\n",
    "print(f\"Scikit-learn GBM Log-Loss:{gbm_log_loss:.4f}\")\n",
    "custom_gbm.predict(self, X=X, threshold=0.5)"
   ]
  },
  {
   "cell_type": "code",
   "execution_count": null,
   "id": "c8f9f965-b783-4978-9e72-6050810ffb86",
   "metadata": {},
   "outputs": [],
   "source": []
  }
 ],
 "metadata": {
  "kernelspec": {
   "display_name": "Python 3 (ipykernel)",
   "language": "python",
   "name": "python3"
  },
  "language_info": {
   "codemirror_mode": {
    "name": "ipython",
    "version": 3
   },
   "file_extension": ".py",
   "mimetype": "text/x-python",
   "name": "python",
   "nbconvert_exporter": "python",
   "pygments_lexer": "ipython3",
   "version": "3.11.7"
  }
 },
 "nbformat": 4,
 "nbformat_minor": 5
}
